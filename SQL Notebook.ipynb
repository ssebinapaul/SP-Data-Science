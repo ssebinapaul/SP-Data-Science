{
 "cells": [
  {
   "cell_type": "markdown",
   "id": "fbddaf1a-5893-46d1-a471-156ab701bb45",
   "metadata": {},
   "source": [
    "**Assignment: SQL Notebook for Peer Assignment**"
   ]
  },
  {
   "cell_type": "code",
   "execution_count": 4,
   "id": "887c1560-4184-45bf-9927-1863c3dde90f",
   "metadata": {},
   "outputs": [],
   "source": [
    "url='spacex.csv'"
   ]
  },
  {
   "cell_type": "markdown",
   "id": "8bf241eb-3214-4805-a8d1-17f84152efe6",
   "metadata": {},
   "source": [
    "**Connect to the database**"
   ]
  },
  {
   "cell_type": "markdown",
   "id": "f8027ee2-4148-4a06-8f62-fabc7d64a32f",
   "metadata": {},
   "source": [
    "*Let us first load the SQL extension and establish a connection with the database*"
   ]
  },
  {
   "cell_type": "code",
   "execution_count": 4,
   "id": "19c29d35-1735-443b-baea-aa81861641df",
   "metadata": {},
   "outputs": [],
   "source": [
    "%load_ext sql"
   ]
  },
  {
   "cell_type": "code",
   "execution_count": 5,
   "id": "78fd1c12-7efe-4d9c-b5a4-e8435486707b",
   "metadata": {},
   "outputs": [],
   "source": [
    "import csv, sqlite3\n",
    "\n",
    "con = sqlite3.connect(\"my_data1.db\")\n",
    "cur = con.cursor()"
   ]
  },
  {
   "cell_type": "code",
   "execution_count": 7,
   "id": "bd482bc9-6ee3-4279-a05a-e763055cf287",
   "metadata": {},
   "outputs": [],
   "source": [
    "%sql sqlite:///my_data1.db"
   ]
  },
  {
   "cell_type": "code",
   "execution_count": 8,
   "id": "133689d3-1330-4839-93de-7e9816504220",
   "metadata": {},
   "outputs": [
    {
     "data": {
      "text/plain": [
       "101"
      ]
     },
     "execution_count": 8,
     "metadata": {},
     "output_type": "execute_result"
    }
   ],
   "source": [
    "import pandas as pd\n",
    "df = pd.read_csv(\"https://cf-courses-data.s3.us.cloud-object-storage.appdomain.cloud/IBM-DS0321EN-SkillsNetwork/labs/module_2/data/Spacex.csv\")\n",
    "df.to_sql(\"SPACEXTBL\", con, if_exists='replace', index=False,method=\"multi\")"
   ]
  },
  {
   "cell_type": "markdown",
   "id": "73ff8421-d0e1-421e-b246-c9116a266217",
   "metadata": {},
   "source": [
    "*Note:This below code is added to remove blank rows from table*"
   ]
  },
  {
   "cell_type": "code",
   "execution_count": 9,
   "id": "6522fae3-8fb7-4013-b91e-5d53713018a6",
   "metadata": {},
   "outputs": [
    {
     "name": "stdout",
     "output_type": "stream",
     "text": [
      " * sqlite:///my_data1.db\n",
      "Done.\n"
     ]
    },
    {
     "data": {
      "text/plain": [
       "[]"
      ]
     },
     "execution_count": 9,
     "metadata": {},
     "output_type": "execute_result"
    }
   ],
   "source": [
    "%sql create table SPACEXTABLE as select * from SPACEXTBL where Date is not null"
   ]
  },
  {
   "cell_type": "markdown",
   "id": "91da17cf-99f1-4c84-8cf7-2f9d714b6a8a",
   "metadata": {},
   "source": [
    "**Tasks**\n",
    "*Now write and execute SQL queries to solve the assignment tasks.*\n",
    "\n",
    "**Note: If the column names are in mixed case enclose it in double quotes For Example \"Landing_Outcome\"**\n",
    "\n",
    "*Task 1*\n",
    "*Display the names of the unique launch sites in the space mission*"
   ]
  },
  {
   "cell_type": "code",
   "execution_count": 24,
   "id": "b937b47b-c029-46de-9b15-1c7170404306",
   "metadata": {},
   "outputs": [
    {
     "data": {
      "text/plain": [
       "array(['CCAFS LC-40', 'VAFB SLC-4E', 'KSC LC-39A', 'CCAFS SLC-40'],\n",
       "      dtype=object)"
      ]
     },
     "execution_count": 24,
     "metadata": {},
     "output_type": "execute_result"
    }
   ],
   "source": [
    "df['Launch_Site'].unique()"
   ]
  },
  {
   "cell_type": "markdown",
   "id": "556a54bf-8504-448e-9373-f696fe73ce02",
   "metadata": {},
   "source": [
    "**Task 2**\n",
    "*Display 5 records where launch sites begin with the string 'CCA'*"
   ]
  },
  {
   "cell_type": "code",
   "execution_count": 28,
   "id": "2c46e7d7-8bf7-4de4-aa27-627991f58ee3",
   "metadata": {},
   "outputs": [
    {
     "data": {
      "text/html": [
       "<div>\n",
       "<style scoped>\n",
       "    .dataframe tbody tr th:only-of-type {\n",
       "        vertical-align: middle;\n",
       "    }\n",
       "\n",
       "    .dataframe tbody tr th {\n",
       "        vertical-align: top;\n",
       "    }\n",
       "\n",
       "    .dataframe thead th {\n",
       "        text-align: right;\n",
       "    }\n",
       "</style>\n",
       "<table border=\"1\" class=\"dataframe\">\n",
       "  <thead>\n",
       "    <tr style=\"text-align: right;\">\n",
       "      <th></th>\n",
       "      <th>Date</th>\n",
       "      <th>Time (UTC)</th>\n",
       "      <th>Booster_Version</th>\n",
       "      <th>Launch_Site</th>\n",
       "      <th>Payload</th>\n",
       "      <th>PAYLOAD_MASS__KG_</th>\n",
       "      <th>Orbit</th>\n",
       "      <th>Customer</th>\n",
       "      <th>Mission_Outcome</th>\n",
       "      <th>Landing_Outcome</th>\n",
       "    </tr>\n",
       "  </thead>\n",
       "  <tbody>\n",
       "    <tr>\n",
       "      <th>0</th>\n",
       "      <td>2010-06-04</td>\n",
       "      <td>18:45:00</td>\n",
       "      <td>F9 v1.0  B0003</td>\n",
       "      <td>CCAFS LC-40</td>\n",
       "      <td>Dragon Spacecraft Qualification Unit</td>\n",
       "      <td>0</td>\n",
       "      <td>LEO</td>\n",
       "      <td>SpaceX</td>\n",
       "      <td>Success</td>\n",
       "      <td>Failure (parachute)</td>\n",
       "    </tr>\n",
       "    <tr>\n",
       "      <th>1</th>\n",
       "      <td>2010-12-08</td>\n",
       "      <td>15:43:00</td>\n",
       "      <td>F9 v1.0  B0004</td>\n",
       "      <td>CCAFS LC-40</td>\n",
       "      <td>Dragon demo flight C1, two CubeSats, barrel of...</td>\n",
       "      <td>0</td>\n",
       "      <td>LEO (ISS)</td>\n",
       "      <td>NASA (COTS) NRO</td>\n",
       "      <td>Success</td>\n",
       "      <td>Failure (parachute)</td>\n",
       "    </tr>\n",
       "    <tr>\n",
       "      <th>2</th>\n",
       "      <td>2012-05-22</td>\n",
       "      <td>7:44:00</td>\n",
       "      <td>F9 v1.0  B0005</td>\n",
       "      <td>CCAFS LC-40</td>\n",
       "      <td>Dragon demo flight C2</td>\n",
       "      <td>525</td>\n",
       "      <td>LEO (ISS)</td>\n",
       "      <td>NASA (COTS)</td>\n",
       "      <td>Success</td>\n",
       "      <td>No attempt</td>\n",
       "    </tr>\n",
       "    <tr>\n",
       "      <th>3</th>\n",
       "      <td>2012-10-08</td>\n",
       "      <td>0:35:00</td>\n",
       "      <td>F9 v1.0  B0006</td>\n",
       "      <td>CCAFS LC-40</td>\n",
       "      <td>SpaceX CRS-1</td>\n",
       "      <td>500</td>\n",
       "      <td>LEO (ISS)</td>\n",
       "      <td>NASA (CRS)</td>\n",
       "      <td>Success</td>\n",
       "      <td>No attempt</td>\n",
       "    </tr>\n",
       "    <tr>\n",
       "      <th>4</th>\n",
       "      <td>2013-03-01</td>\n",
       "      <td>15:10:00</td>\n",
       "      <td>F9 v1.0  B0007</td>\n",
       "      <td>CCAFS LC-40</td>\n",
       "      <td>SpaceX CRS-2</td>\n",
       "      <td>677</td>\n",
       "      <td>LEO (ISS)</td>\n",
       "      <td>NASA (CRS)</td>\n",
       "      <td>Success</td>\n",
       "      <td>No attempt</td>\n",
       "    </tr>\n",
       "  </tbody>\n",
       "</table>\n",
       "</div>"
      ],
      "text/plain": [
       "         Date Time (UTC) Booster_Version  Launch_Site  \\\n",
       "0  2010-06-04   18:45:00  F9 v1.0  B0003  CCAFS LC-40   \n",
       "1  2010-12-08   15:43:00  F9 v1.0  B0004  CCAFS LC-40   \n",
       "2  2012-05-22    7:44:00  F9 v1.0  B0005  CCAFS LC-40   \n",
       "3  2012-10-08    0:35:00  F9 v1.0  B0006  CCAFS LC-40   \n",
       "4  2013-03-01   15:10:00  F9 v1.0  B0007  CCAFS LC-40   \n",
       "\n",
       "                                             Payload  PAYLOAD_MASS__KG_  \\\n",
       "0               Dragon Spacecraft Qualification Unit                  0   \n",
       "1  Dragon demo flight C1, two CubeSats, barrel of...                  0   \n",
       "2                              Dragon demo flight C2                525   \n",
       "3                                       SpaceX CRS-1                500   \n",
       "4                                       SpaceX CRS-2                677   \n",
       "\n",
       "       Orbit         Customer Mission_Outcome      Landing_Outcome  \n",
       "0        LEO           SpaceX         Success  Failure (parachute)  \n",
       "1  LEO (ISS)  NASA (COTS) NRO         Success  Failure (parachute)  \n",
       "2  LEO (ISS)      NASA (COTS)         Success           No attempt  \n",
       "3  LEO (ISS)       NASA (CRS)         Success           No attempt  \n",
       "4  LEO (ISS)       NASA (CRS)         Success           No attempt  "
      ]
     },
     "execution_count": 28,
     "metadata": {},
     "output_type": "execute_result"
    }
   ],
   "source": [
    "df[df['Launch_Site'].str.startswith('CCA')].head(5)"
   ]
  },
  {
   "cell_type": "markdown",
   "id": "437ec549-209d-43ab-acc3-69ec36bd3296",
   "metadata": {},
   "source": [
    "**Task 3**\n",
    "*Display the total payload mass carried by boosters launched by NASA (CRS)*"
   ]
  },
  {
   "cell_type": "code",
   "execution_count": 34,
   "id": "789d73bc-f51f-4003-8cb5-3824dc398457",
   "metadata": {},
   "outputs": [
    {
     "data": {
      "text/plain": [
       "45596"
      ]
     },
     "execution_count": 34,
     "metadata": {},
     "output_type": "execute_result"
    }
   ],
   "source": [
    "df.loc[df['Customer'] == 'NASA (CRS)', 'PAYLOAD_MASS__KG_'].sum()"
   ]
  },
  {
   "cell_type": "markdown",
   "id": "4abd8b61-6689-46b2-8084-9187e503dff6",
   "metadata": {},
   "source": [
    "**Task 4**\n",
    "*Display average payload mass carried by booster version F9 v1.1*"
   ]
  },
  {
   "cell_type": "code",
   "execution_count": 36,
   "id": "cff0619e-41f3-4802-ab9a-323e4f471795",
   "metadata": {},
   "outputs": [
    {
     "data": {
      "text/plain": [
       "2928.4"
      ]
     },
     "execution_count": 36,
     "metadata": {},
     "output_type": "execute_result"
    }
   ],
   "source": [
    "df.loc[df['Booster_Version'] == 'F9 v1.1', 'PAYLOAD_MASS__KG_'].mean()"
   ]
  },
  {
   "cell_type": "markdown",
   "id": "e3f32fbe-6688-4b06-b7c3-6ff0e70b9005",
   "metadata": {},
   "source": [
    "**Task 5**\n",
    "*List the date when the first succesful landing outcome in ground pad was acheived.*"
   ]
  },
  {
   "cell_type": "code",
   "execution_count": 38,
   "id": "a1833369-01a3-469e-9402-942ceb328aed",
   "metadata": {},
   "outputs": [
    {
     "data": {
      "text/plain": [
       "'2018-07-22'"
      ]
     },
     "execution_count": 38,
     "metadata": {},
     "output_type": "execute_result"
    }
   ],
   "source": [
    "df.loc[df['Landing_Outcome']=='Success', 'Date'].min()"
   ]
  },
  {
   "cell_type": "markdown",
   "id": "30f56010-336b-46e9-92ef-7fb08969775d",
   "metadata": {},
   "source": [
    "**Task 6**\n",
    "*List the names of the boosters which have success in drone ship and have payload mass greater than 4000 but less than 6000*"
   ]
  },
  {
   "cell_type": "code",
   "execution_count": 42,
   "id": "f41ffde3-ae89-42d8-9ab8-931c7ea8d1df",
   "metadata": {},
   "outputs": [
    {
     "data": {
      "text/plain": [
       "10           F9 v1.1\n",
       "11     F9 v1.1 B1011\n",
       "15     F9 v1.1 B1014\n",
       "17     F9 v1.1 B1016\n",
       "21       F9 FT B1020\n",
       "23       F9 FT B1022\n",
       "27       F9 FT B1026\n",
       "30       F9 FT B1030\n",
       "31    F9 FT  B1021.2\n",
       "32     F9 FT B1032.1\n",
       "40     F9 B4 B1040.1\n",
       "42    F9 FT  B1031.2\n",
       "46     F9 B4 B1043.1\n",
       "47    F9 FT  B1032.2\n",
       "55    F9 B4  B1040.2\n",
       "59     F9 B5 B1046.2\n",
       "62     F9 B5 B1047.2\n",
       "65        F9 B5B1054\n",
       "67     F9 B5 B1048.3\n",
       "71    F9 B5 B1051.2 \n",
       "87      F9 B5B1060.1\n",
       "88    F9 B5 B1058.2 \n",
       "96      F9 B5B1062.1\n",
       "Name: Booster_Version, dtype: object"
      ]
     },
     "execution_count": 42,
     "metadata": {},
     "output_type": "execute_result"
    }
   ],
   "source": [
    "df.loc[(df['PAYLOAD_MASS__KG_'] > 4000) & (df['PAYLOAD_MASS__KG_'] < 6000), 'Booster_Version']"
   ]
  },
  {
   "cell_type": "markdown",
   "id": "88133ccd-afa8-4b6c-8c80-c60f470d434b",
   "metadata": {},
   "source": [
    "**Task 7**\n",
    "*List the total number of successful and failure mission outcomes*"
   ]
  },
  {
   "cell_type": "code",
   "execution_count": 48,
   "id": "50e5d81d-ddde-42fc-a2e3-a3f5056bb6fd",
   "metadata": {},
   "outputs": [
    {
     "data": {
      "text/plain": [
       "101"
      ]
     },
     "execution_count": 48,
     "metadata": {},
     "output_type": "execute_result"
    }
   ],
   "source": [
    "df['Mission_Outcome'].value_counts().sum()"
   ]
  },
  {
   "cell_type": "markdown",
   "id": "8fcfae25-08ff-4e41-8b77-b2961f50f8f1",
   "metadata": {},
   "source": [
    "**Task 8**\n",
    "*List the names of the booster_versions which have carried the maximum payload mass. Use a subquery*"
   ]
  },
  {
   "cell_type": "code",
   "execution_count": 64,
   "id": "1e44c0e1-893c-43d1-8fdc-322291e2b318",
   "metadata": {},
   "outputs": [
    {
     "data": {
      "text/plain": [
       "array(['F9 B5 B1048.4', 'F9 B5 B1049.4', 'F9 B5 B1051.3', 'F9 B5 B1056.4',\n",
       "       'F9 B5 B1048.5', 'F9 B5 B1051.4', 'F9 B5 B1049.5',\n",
       "       'F9 B5 B1060.2 ', 'F9 B5 B1058.3 ', 'F9 B5 B1051.6',\n",
       "       'F9 B5 B1060.3', 'F9 B5 B1049.7 '], dtype=object)"
      ]
     },
     "execution_count": 64,
     "metadata": {},
     "output_type": "execute_result"
    }
   ],
   "source": [
    " df.loc[df['PAYLOAD_MASS__KG_'] == df['PAYLOAD_MASS__KG_'].max(), 'Booster_Version'].unique()"
   ]
  },
  {
   "cell_type": "markdown",
   "id": "672c5186-4974-442d-b3eb-b40842c60d22",
   "metadata": {},
   "source": [
    "**Task 9**\n",
    "*List the records which will display the month names, failure landing_outcomes in drone ship ,booster versions, launch_site for the months in year 2015.*\n",
    "**Note: SQLLite does not support monthnames. So you need to use substr(Date, 6,2) as month to get the months and substr(Date,0,5)='2015' for year.**"
   ]
  },
  {
   "cell_type": "code",
   "execution_count": 81,
   "id": "7da59ed1-e4ff-47a8-ab00-584fbc5fe076",
   "metadata": {},
   "outputs": [
    {
     "name": "stderr",
     "output_type": "stream",
     "text": [
      "C:\\Users\\user\\AppData\\Local\\Temp\\ipykernel_3232\\3699239509.py:8: SettingWithCopyWarning: \n",
      "A value is trying to be set on a copy of a slice from a DataFrame.\n",
      "Try using .loc[row_indexer,col_indexer] = value instead\n",
      "\n",
      "See the caveats in the documentation: https://pandas.pydata.org/pandas-docs/stable/user_guide/indexing.html#returning-a-view-versus-a-copy\n",
      "  df_2015['Month'] = df_2015['Date'].dt.month\n",
      "C:\\Users\\user\\AppData\\Local\\Temp\\ipykernel_3232\\3699239509.py:11: SettingWithCopyWarning: \n",
      "A value is trying to be set on a copy of a slice from a DataFrame.\n",
      "Try using .loc[row_indexer,col_indexer] = value instead\n",
      "\n",
      "See the caveats in the documentation: https://pandas.pydata.org/pandas-docs/stable/user_guide/indexing.html#returning-a-view-versus-a-copy\n",
      "  df_2015['Month'] = df_2015['Month'].replace([1, 2, 3, 4, 5, 6, 7, 8, 9, 10, 11, 12],\n"
     ]
    },
    {
     "data": {
      "text/html": [
       "<div>\n",
       "<style scoped>\n",
       "    .dataframe tbody tr th:only-of-type {\n",
       "        vertical-align: middle;\n",
       "    }\n",
       "\n",
       "    .dataframe tbody tr th {\n",
       "        vertical-align: top;\n",
       "    }\n",
       "\n",
       "    .dataframe thead th {\n",
       "        text-align: right;\n",
       "    }\n",
       "</style>\n",
       "<table border=\"1\" class=\"dataframe\">\n",
       "  <thead>\n",
       "    <tr style=\"text-align: right;\">\n",
       "      <th></th>\n",
       "      <th>Month</th>\n",
       "      <th>Landing_Outcome</th>\n",
       "      <th>Booster_Version</th>\n",
       "      <th>Launch_Site</th>\n",
       "    </tr>\n",
       "  </thead>\n",
       "  <tbody>\n",
       "  </tbody>\n",
       "</table>\n",
       "</div>"
      ],
      "text/plain": [
       "Empty DataFrame\n",
       "Columns: [Month, Landing_Outcome, Booster_Version, Launch_Site]\n",
       "Index: []"
      ]
     },
     "execution_count": 81,
     "metadata": {},
     "output_type": "execute_result"
    }
   ],
   "source": [
    "# Convert the 'Date' column to datetime format\n",
    "df['Date'] = pd.to_datetime(df['Date'])\n",
    "\n",
    "# Filter the records to only include those in 2015\n",
    "df_2015 = df[df['Date'].dt.year == 2015]\n",
    "\n",
    "# Extract the month from the 'Date' column\n",
    "df_2015['Month'] = df_2015['Date'].dt.month\n",
    "\n",
    "# Replace the month numbers with month names\n",
    "df_2015['Month'] = df_2015['Month'].replace([1, 2, 3, 4, 5, 6, 7, 8, 9, 10, 11, 12], \n",
    "                                           ['January', 'February', 'March', 'April', 'May', 'June', 'July', 'August', 'September', 'October', 'November', 'December'])\n",
    "\n",
    "# Filter the records to only include those with a 'Failure' landing outcome in a drone ship\n",
    "failure_drone_ship = df_2015[(df_2015['Landing_Outcome'] == 'Failure') & (df_2015['Landing_Outcome'] == 'Drone Ship')]\n",
    "\n",
    "# Select the desired columns\n",
    "result = failure_drone_ship[['Month', 'Landing_Outcome', 'Booster_Version', 'Launch_Site']]\n",
    "\n",
    "result"
   ]
  },
  {
   "cell_type": "markdown",
   "id": "20b1c57f-cc95-4bb8-8707-7eebd1bf3b6f",
   "metadata": {},
   "source": [
    "**Task 10**\n",
    "*Rank the count of landing outcomes (such as Failure (drone ship) or Success (ground pad)) between the date 2010-06-04 and 2017-03-20, in descending order.*"
   ]
  },
  {
   "cell_type": "code",
   "execution_count": 79,
   "id": "2bd3de20-6b18-48c8-b7fd-514fbf657e00",
   "metadata": {},
   "outputs": [
    {
     "data": {
      "text/html": [
       "<div>\n",
       "<style scoped>\n",
       "    .dataframe tbody tr th:only-of-type {\n",
       "        vertical-align: middle;\n",
       "    }\n",
       "\n",
       "    .dataframe tbody tr th {\n",
       "        vertical-align: top;\n",
       "    }\n",
       "\n",
       "    .dataframe thead th {\n",
       "        text-align: right;\n",
       "    }\n",
       "</style>\n",
       "<table border=\"1\" class=\"dataframe\">\n",
       "  <thead>\n",
       "    <tr style=\"text-align: right;\">\n",
       "      <th></th>\n",
       "      <th>Landing_Outcome</th>\n",
       "      <th>Count</th>\n",
       "    </tr>\n",
       "  </thead>\n",
       "  <tbody>\n",
       "    <tr>\n",
       "      <th>7</th>\n",
       "      <td>Precluded (drone ship)</td>\n",
       "      <td>1</td>\n",
       "    </tr>\n",
       "    <tr>\n",
       "      <th>5</th>\n",
       "      <td>Failure (parachute)</td>\n",
       "      <td>2</td>\n",
       "    </tr>\n",
       "    <tr>\n",
       "      <th>6</th>\n",
       "      <td>Uncontrolled (ocean)</td>\n",
       "      <td>2</td>\n",
       "    </tr>\n",
       "    <tr>\n",
       "      <th>3</th>\n",
       "      <td>Controlled (ocean)</td>\n",
       "      <td>3</td>\n",
       "    </tr>\n",
       "    <tr>\n",
       "      <th>4</th>\n",
       "      <td>Success (ground pad)</td>\n",
       "      <td>3</td>\n",
       "    </tr>\n",
       "    <tr>\n",
       "      <th>1</th>\n",
       "      <td>Failure (drone ship)</td>\n",
       "      <td>5</td>\n",
       "    </tr>\n",
       "    <tr>\n",
       "      <th>2</th>\n",
       "      <td>Success (drone ship)</td>\n",
       "      <td>5</td>\n",
       "    </tr>\n",
       "    <tr>\n",
       "      <th>0</th>\n",
       "      <td>No attempt</td>\n",
       "      <td>10</td>\n",
       "    </tr>\n",
       "  </tbody>\n",
       "</table>\n",
       "</div>"
      ],
      "text/plain": [
       "          Landing_Outcome  Count\n",
       "7  Precluded (drone ship)      1\n",
       "5     Failure (parachute)      2\n",
       "6    Uncontrolled (ocean)      2\n",
       "3      Controlled (ocean)      3\n",
       "4    Success (ground pad)      3\n",
       "1    Failure (drone ship)      5\n",
       "2    Success (drone ship)      5\n",
       "0              No attempt     10"
      ]
     },
     "execution_count": 79,
     "metadata": {},
     "output_type": "execute_result"
    }
   ],
   "source": [
    "filtered_df = df[(df['Date'] >= '2010-06-04') & (df['Date'] <= '2017-03-20')]\n",
    "\n",
    "outcome_counts = filtered_df['Landing_Outcome'].value_counts().reset_index()\n",
    "\n",
    "outcome_counts.columns = ['Landing_Outcome', 'Count']\n",
    "\n",
    "outcome_counts = outcome_counts.sort_values('Count')\n",
    "\n",
    "outcome_counts"
   ]
  },
  {
   "cell_type": "code",
   "execution_count": null,
   "id": "a571d26a-9a0e-484c-9bc1-3de8e3cbcd94",
   "metadata": {},
   "outputs": [],
   "source": []
  }
 ],
 "metadata": {
  "kernelspec": {
   "display_name": "Python 3 (ipykernel)",
   "language": "python",
   "name": "python3"
  },
  "language_info": {
   "codemirror_mode": {
    "name": "ipython",
    "version": 3
   },
   "file_extension": ".py",
   "mimetype": "text/x-python",
   "name": "python",
   "nbconvert_exporter": "python",
   "pygments_lexer": "ipython3",
   "version": "3.11.7"
  }
 },
 "nbformat": 4,
 "nbformat_minor": 5
}
